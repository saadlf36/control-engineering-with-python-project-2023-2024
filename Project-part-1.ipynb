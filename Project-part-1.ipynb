{
 "cells": [
  {
   "cell_type": "markdown",
   "metadata": {
    "tags": []
   },
   "source": [
    "# Self-Balancing Scooter Control\n",
    "\n",
    "![](images/self-balancing-scooter.png)\n",
    "\n",
    "> A self-balancing scooter [...] is a self-balancing personal transporter consisting of two motorized wheels connected to a pair of articulated pads on which the rider places their feet. The rider controls the speed by leaning forward or backward, and direction of travel by twisting the pads.\n",
    "> \n",
    "> Source: <https://en.wikipedia.org/wiki/Self-balancing_scooter>"
   ]
  },
  {
   "cell_type": "markdown",
   "metadata": {},
   "source": [
    "### Python Dependencies"
   ]
  },
  {
   "cell_type": "code",
   "execution_count": 27,
   "metadata": {},
   "outputs": [],
   "source": [
    "import numpy as np\n",
    "from numpy.linalg import *\n",
    "\n",
    "from scipy.linalg import *\n",
    "from scipy.integrate import *\n",
    "from scipy.signal import *\n",
    "\n",
    "import matplotlib.pyplot as plt\n",
    "from matplotlib.patches import Circle, Polygon"
   ]
  },
  {
   "cell_type": "markdown",
   "metadata": {
    "tags": []
   },
   "source": [
    "Step 1 - Scooter Planar Model\n",
    "================================"
   ]
  },
  {
   "cell_type": "markdown",
   "metadata": {
    "tags": []
   },
   "source": [
    "### Introduction"
   ]
  },
  {
   "cell_type": "markdown",
   "metadata": {
    "tags": []
   },
   "source": [
    "We consider a simple model of a self-balancing scooter evolving in the plane. It is mainly made of\n",
    "\n",
    "  - The frame that contains the two articulated pads; from above, each pad essentially look like a triangle (one vertice in the center of the frame, one vertice at each extremity of the wheel).\n",
    "\n",
    "  - Two fixed wheels (their orientation with respect to the frame does not change). \n",
    "    They are parallel and located at opposite ends of the frame. \n",
    "    \n",
    "Let $(0, e_x, e_y)$ be a direct orthonormal frame of the plane. We denote \n",
    "\n",
    "  - $(x, y)$ the coordinates of the wheel axis center in the orthonormal and \n",
    "  - $\\theta$ the angle of the wheels direction with respect to vector $e_x$ ; with $\\theta = 0$ when the front of the scooter faces the right ($e_x$) and $\\theta = \\pi/2$ when it faces upwards ($e_y$).\n",
    "\n",
    "  - $\\phi_l$ and $\\phi_r$ the rotation angles of the left and right wheel respectively ; by convention, when these angles increase, the scooter moves forward."
   ]
  },
  {
   "cell_type": "markdown",
   "metadata": {
    "tags": []
   },
   "source": [
    "### Parameter Definition"
   ]
  },
  {
   "cell_type": "markdown",
   "metadata": {
    "tags": []
   },
   "source": [
    "From now on, we assume that the seat frame length is $\\ell = 50 \\mbox{ cm}$ and the wheel radius is $r = 12.5 \\mbox{ cm}$.\n",
    "\n",
    "🧩 Define the corresponding Python variables `l` and `r` (express every length in meters, and more generally in the sequel, always use the [international standard of units](https://en.wikipedia.org/wiki/SI_derived_unit)) for numerical values. "
   ]
  },
  {
   "cell_type": "code",
   "execution_count": 28,
   "metadata": {},
   "outputs": [],
   "source": [
    "l = 0.5\n",
    "r = 0.125"
   ]
  },
  {
   "cell_type": "markdown",
   "metadata": {},
   "source": [
    "### Graphical Representation\n",
    "\n",
    "🧩 Implement a function `draw_scooter` with arguments `x`, `y` and `theta` that draws a simple geometric model of the wheelchair (with a red frame and black fixed wheels) in the plane (top view) for arbitrary values of $(x, y)$ and $\\theta$. Use a green circle marker 50 cm in of the frame to indicate which way is forward.\n",
    "\n",
    "🗝️ **Hint.** Use the function `plot` of `matplotlib.pyplot`."
   ]
  },
  {
   "cell_type": "code",
   "execution_count": 29,
   "metadata": {},
   "outputs": [],
   "source": [
    "def rotate_point(x, y, theta, x_center, y_center):\n",
    "# Calculate the rotated coordinates\n",
    "    x_rotated = (x - x_center) * np.cos(theta) - (y - y_center) * np.sin(theta) + x_center\n",
    "    y_rotated = (x - x_center) * np.sin(theta) + (y - y_center) * np.cos(theta) + y_center\n",
    "    return (x_rotated, y_rotated)\n",
    "\n",
    "def draw_hoverboard(x, y, theta) :\n",
    "  half_side = l/2\n",
    "  wheel_thickness = 0.05\n",
    "\n",
    "  up_tr_coord1 = rotate_point(x - half_side/2, y + half_side, theta, x, y)\n",
    "  up_tr_coord2 = rotate_point(x + half_side/2, y + half_side, theta, x, y)\n",
    "  down_tr_coord1 = rotate_point(x - half_side/2, y - half_side, theta, x, y)\n",
    "  down_tr_coord2 = rotate_point(x + half_side/2, y - half_side, theta, x, y)\n",
    "\n",
    "  # Define the coordinates of the upper triangle vertices\n",
    "  upper_triangle_coords = [up_tr_coord1, up_tr_coord2, (x, y)]\n",
    "  lower_triangle_coords = [down_tr_coord1, down_tr_coord2, (x, y)]\n",
    "\n",
    "  # Create upper triangle\n",
    "  upper_triangle = Polygon(upper_triangle_coords, closed=True, fill=True, color='blue')  # You can change the color\n",
    "  lower_triangle = Polygon(lower_triangle_coords, closed=True, fill=True, color='blue')  # You can change the color\n",
    "\n",
    "  # Add the upper triangle to the axes\n",
    "  ax.add_patch(upper_triangle)\n",
    "  ax.add_patch(lower_triangle)\n",
    "\n",
    "\n",
    "  top_bar_coord1 = rotate_point(x - half_side/2, y + half_side, theta, x, y)\n",
    "  top_bar_coord2 = rotate_point(x - half_side/2, y + half_side - wheel_thickness, theta, x, y)\n",
    "  top_bar_coord3 = rotate_point(x + half_side/2, y + half_side - wheel_thickness, theta, x, y)\n",
    "  top_bar_coord4 = rotate_point(x + half_side/2, y + half_side, theta, x, y)\n",
    "  bottom_bar_coord1 = rotate_point(x - half_side/2, y - half_side, theta, x, y)\n",
    "  bottom_bar_coord2 = rotate_point(x - half_side/2, y - half_side + wheel_thickness, theta, x, y)\n",
    "  bottom_bar_coord3 = rotate_point(x + half_side/2, y - half_side + wheel_thickness, theta, x, y)\n",
    "  bottom_bar_coord4 = rotate_point(x + half_side/2, y - half_side, theta, x, y)\n",
    "\n",
    "  top_bar_coords = [top_bar_coord1, top_bar_coord2, top_bar_coord3, top_bar_coord4]\n",
    "  bottom_bar_coords = [bottom_bar_coord1, bottom_bar_coord2, bottom_bar_coord3, bottom_bar_coord4]\n",
    "\n",
    "  # Create top black bar\n",
    "  top_bar = Polygon(top_bar_coords, closed=True, fill=True, color='black')\n",
    "  bottom_bar = Polygon(bottom_bar_coords, closed=True, fill=True, color='black')\n",
    "\n",
    "  # Add the top black bar to the axes\n",
    "  ax.add_patch(top_bar)\n",
    "  ax.add_patch(bottom_bar)\n",
    "\n",
    "  # Add circle\n",
    "  circle_center = (x + 0.5, y)  # Center coordinates (x, y)\n",
    "  center_rotated = rotate_point(circle_center[0], circle_center[1], theta, x, y)\n",
    "  radius = 0.03  # Radius of the circle\n",
    "\n",
    "  circle = Circle(center_rotated, radius, fill=True, color='green')\n",
    "  ax.add_patch(circle)"
   ]
  },
  {
   "cell_type": "markdown",
   "metadata": {},
   "source": [
    "🧩 Represent the wheelchair when $(x, y, \\theta) = (0, 0, 0), (2, 2, \\pi/2), (0, 4, \\pi), (-2, 2, 3\\pi/2)$.\n",
    "\n",
    "🗝️ **Hint.** Use the following `draw_arena` function beforehand."
   ]
  },
  {
   "cell_type": "code",
   "execution_count": 30,
   "metadata": {},
   "outputs": [],
   "source": [
    "def draw_arena(xmin, xmax, ymin, ymax):\n",
    "    wh_ratio = (xmax - xmin) / (ymax - ymin)\n",
    "    figsize = fig_width, fig_height = 16, 16 / wh_ratio\n",
    "    fig, ax = plt.subplots(figsize=figsize)\n",
    "    ax.set_xlim(xmin, xmax)\n",
    "    ax.set_ylim(ymin, ymax)\n",
    "    ax.set_aspect(1)\n",
    "    ax.set_xticks(np.arange(xmin, xmax + 1, 1))\n",
    "    ax.set_yticks(np.arange(ymin, ymax + 1, 1))\n",
    "    ax.grid(True)\n",
    "    return fig, ax"
   ]
  },
  {
   "cell_type": "code",
   "execution_count": 31,
   "metadata": {},
   "outputs": [
    {
     "data": {
      "image/png": "[encoded data removed]",
      "text/plain": [
       "<Figure size 1600x960 with 1 Axes>"
      ]
     },
     "metadata": {},
     "output_type": "display_data"
    }
   ],
   "source": [
    "fig, ax = draw_arena(-5, 5, -1, 5)\n",
    "draw_hoverboard(0, 0, 0)\n",
    "draw_hoverboard(2, 2, np.pi/2)\n",
    "draw_hoverboard(0, 4, np.pi)\n",
    "draw_hoverboard(-2, 2, 3*np.pi/2)\n",
    "plt.show()"
   ]
  },
  {
   "cell_type": "markdown",
   "metadata": {},
   "source": [
    "### Kinematic Modeling\n",
    "\n",
    "We assume that we can control the wheels angular velocities $\\omega_l = \\dot{\\phi}_l$ and $\\omega_r = \\dot{\\phi}_r$ (this is a *kinematic* model of the wheelchair).\n",
    "We also assume that the wheelchair fixed wheels roll without slipping. \n",
    "\n",
    "🧩 Establish the differential equations that relate $\\dot{x}$,\n",
    "$\\dot{y}$ and $\\dot{\\theta}$ with $\\omega_l$ and $\\omega_r$."
   ]
  },
  {
   "cell_type": "markdown",
   "metadata": {},
   "source": [
    "**TODO**"
   ]
  },
  {
   "cell_type": "code",
   "execution_count": 32,
   "metadata": {},
   "outputs": [],
   "source": [
    "# Differential equations\n",
    "w_l = 0\n",
    "w_r = 0\n",
    "theta = 0\n",
    "\n",
    "v = r * (w_l + w_r) / 2\n",
    "theta_point = r * (w_r - w_l) / l\n",
    "\n",
    "x_point = v * np.cos(theta)\n",
    "y_point = v * np.sin(theta)"
   ]
  },
  {
   "cell_type": "markdown",
   "metadata": {},
   "source": [
    "### Analysis\n",
    "\n",
    "🧩 Show that if $\\omega_l$ and $\\omega_r$ are continuously differentiable functions of $(x, y, \\theta)$ (which includes the case of constant inputs), this system is well-posed."
   ]
  },
  {
   "cell_type": "code",
   "execution_count": 33,
   "metadata": {},
   "outputs": [],
   "source": [
    "def omega(t, xytheta):\n",
    "    omega_l = (1 - 1/4) * np.pi / r\n",
    "    omega_r = (1 + 1/4) * np.pi / r\n",
    "    return np.array([omega_l, omega_r])\n",
    "\n",
    "def fun(t, xytheta):\n",
    "    x, y, theta = xytheta\n",
    "    omega_l, omega_r = omega(t, xytheta)\n",
    "\n",
    "    x_point = r * (omega_l + omega_r) / 2 * np.cos(theta)\n",
    "    y_point = r * (omega_l + omega_r) / 2 * np.sin(theta)\n",
    "    theta_point = r * (omega_r - omega_l) / l\n",
    "\n",
    "    return np.array([x_point, y_point, theta_point])"
   ]
  },
  {
   "cell_type": "markdown",
   "metadata": {},
   "source": [
    "**TODO**"
   ]
  },
  {
   "cell_type": "markdown",
   "metadata": {},
   "source": [
    "🧩 Show that if $\\omega_l$ and $\\omega_r$ are constants, the maximal solution associated to any initial state is global. Is is still true of $\\omega_l$ and $\\omega_r$ are arbitrary continuously differentiable functions of $(x, y, \\theta)$ ?"
   ]
  },
  {
   "cell_type": "markdown",
   "metadata": {},
   "source": [
    "**TODO**"
   ]
  },
  {
   "attachments": {},
   "cell_type": "markdown",
   "metadata": {},
   "source": [
    "### Vector Field\n",
    "\n",
    "In the sequel, `omega` is a function that computes the input vector $\\omega := (\\omega_l, \\omega_r)$ given the time $t$ and $(x, y, \\theta)$ (thus, it may depend on the time and/or on the system state if needed). For example:"
   ]
  },
  {
   "cell_type": "code",
   "execution_count": 35,
   "metadata": {},
   "outputs": [],
   "source": [
    "def omega(t, xytheta):\n",
    "    omega_l = (1 - l/4) * pi / r\n",
    "    omega_r = (1 + l/4) * pi / r\n",
    "    return array([omega_l, omega_r])"
   ]
  },
  {
   "cell_type": "markdown",
   "metadata": {},
   "source": [
    "🧩 Implement a function `fun(t, xytheta)` that computes $(\\dot{x}, \\dot{y}, \\dot{\\theta})$ given the time $t$ and $(x,y,\\theta)$ (and implicitly the inputs $\\omega$ computed by the function `omega`)."
   ]
  },
  {
   "cell_type": "code",
   "execution_count": 36,
   "metadata": {},
   "outputs": [],
   "source": [
    "def fun(t, xytheta):\n",
    "    x, y, theta = xytheta\n",
    "    omega_l, omega_r = omega(t, xytheta)\n",
    "    x_point = r * 0.5 * (omega_l + omega_r) * cos(theta)\n",
    "    y_point = r * 0.5 * (omega_l + omega_r) * sin(theta)\n",
    "    theta_point = r * (omega_r - omega_l) / l\n",
    "    return array([x_point, y_point, theta_point])"
   ]
  },
  {
   "attachments": {},
   "cell_type": "markdown",
   "metadata": {},
   "source": [
    "### Simulation Setup\n",
    "\n",
    "\n",
    "   "
   ]
  },
  {
   "cell_type": "code",
   "execution_count": 37,
   "metadata": {},
   "outputs": [],
   "source": [
    "xytheta0 = [0.0, 0.0, 0.0]\n",
    "time_span = [0, 4]\n",
    "\n",
    "# Solve the differential equations\n",
    "solution = solve_ivp(fun=fun, t_span=time_span, y0=xytheta0, dense_output = True)"
   ]
  },
  {
   "cell_type": "code",
   "execution_count": 38,
   "metadata": {},
   "outputs": [],
   "source": [
    "time = solution[\"t\"]\n",
    "x = solution[\"y\"][0]\n",
    "y = solution[\"y\"][1]\n",
    "theta = solution[\"y\"][2]\n",
    "sol = solution[\"sol\"]"
   ]
  },
  {
   "cell_type": "markdown",
   "metadata": {},
   "source": [
    "🧩 Use the simulation results to draw the graphs of $x(t)$, $y(t)$ and $\\theta(t)$."
   ]
  },
  {
   "cell_type": "code",
   "execution_count": 42,
   "metadata": {},
   "outputs": [
    {
     "data": {
      "text/plain": [
       "<matplotlib.legend.Legend at 0x25adfc45c40>"
      ]
     },
     "execution_count": 42,
     "metadata": {},
     "output_type": "execute_result"
    },
    {
     "data": {
      "image/png": "[encoded data removed]",
      "text/plain": [
       "<Figure size 640x480 with 1 Axes>"
      ]
     },
     "metadata": {},
     "output_type": "display_data"
    }
   ],
   "source": [
    "plt.figure()\n",
    "t = np.linspace(0, 4, 1000)\n",
    "plt.plot(t, sol(t)[0], \"-\", label=\"$x(t)$\")\n",
    "plt.plot(t, sol(t)[1], \"-\", label=\"$y(t)$\")\n",
    "plt.plot(t, sol(t)[2], \"-\", label=\"$ θ(t)$\")\n",
    "plt.xlabel(\"$t$\")\n",
    "plt.grid()\n",
    "plt.legend()"
   ]
  },
  {
   "cell_type": "markdown",
   "metadata": {},
   "source": [
    "🧩 Use the simulation results to display the robot location every 0.5 second."
   ]
  },
  {
   "cell_type": "code",
   "execution_count": 43,
   "metadata": {},
   "outputs": [
    {
     "data": {
      "image/png": "[encoded data removed]",
      "text/plain": [
       "<Figure size 1600x960 with 1 Axes>"
      ]
     },
     "metadata": {},
     "output_type": "display_data"
    }
   ],
   "source": [
    "fig, ax = draw_arena(-5, 5, -1, 5)\n",
    "timespan = [i*0.5 for i in range(9)]\n",
    "for t in timespan:\n",
    "    draw_hoverboard(sol(t)[0],sol(t)[1],sol(t)[2])\n",
    "plt.show()"
   ]
  },
  {
   "cell_type": "markdown",
   "metadata": {},
   "source": [
    "🧩 What should be the analytical expression of $x(t)$, $y(t)$ and $\\theta(t)$? "
   ]
  },
  {
   "cell_type": "markdown",
   "metadata": {},
   "source": [
    "**TODO**"
   ]
  },
  {
   "cell_type": "markdown",
   "metadata": {},
   "source": [
    "🧩 Do you experimental results match the theoretical results ? Draw the curves of the simulation error at time $t$ for $x$, $y$ and $\\theta$."
   ]
  },
  {
   "cell_type": "code",
   "execution_count": 5,
   "metadata": {},
   "outputs": [],
   "source": [
    "pass"
   ]
  },
  {
   "cell_type": "markdown",
   "metadata": {},
   "source": [
    "🧩 If needed, adjust the simulation parameters the simulated position error is less than $1\\, \\mathrm{ mm}$. "
   ]
  },
  {
   "cell_type": "code",
   "execution_count": 6,
   "metadata": {},
   "outputs": [],
   "source": [
    "pass"
   ]
  }
 ],
 "metadata": {
  "kernelspec": {
   "display_name": "Python 3 (ipykernel)",
   "language": "python",
   "name": "python3"
  },
  "language_info": {
   "codemirror_mode": {
    "name": "ipython",
    "version": 3
   },
   "file_extension": ".py",
   "mimetype": "text/x-python",
   "name": "python",
   "nbconvert_exporter": "python",
   "pygments_lexer": "ipython3",
   "version": "3.9.13"
  }
 },
 "nbformat": 4,
 "nbformat_minor": 4
}
